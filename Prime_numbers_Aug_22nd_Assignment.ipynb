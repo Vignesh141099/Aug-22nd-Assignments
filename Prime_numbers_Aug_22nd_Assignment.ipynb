{
  "nbformat": 4,
  "nbformat_minor": 0,
  "metadata": {
    "colab": {
      "name": " Prime numbers Aug 22nd Assignment.ipynb",
      "provenance": [],
      "authorship_tag": "ABX9TyOGMHZhOXK/w8hu9xDx5f0h",
      "include_colab_link": true
    },
    "kernelspec": {
      "name": "python3",
      "display_name": "Python 3"
    },
    "language_info": {
      "name": "python"
    }
  },
  "cells": [
    {
      "cell_type": "markdown",
      "metadata": {
        "id": "view-in-github",
        "colab_type": "text"
      },
      "source": [
        "<a href=\"https://colab.research.google.com/github/Vignesh141099/Aug-22nd-Assignments/blob/main/Prime_numbers_Aug_22nd_Assignment.ipynb\" target=\"_parent\"><img src=\"https://colab.research.google.com/assets/colab-badge.svg\" alt=\"Open In Colab\"/></a>"
      ]
    },
    {
      "cell_type": "markdown",
      "source": [
        "\n",
        "\n",
        "* print all prime numbers till the given number\n",
        "\n"
      ],
      "metadata": {
        "id": "meqVbMwZGz4J"
      }
    },
    {
      "cell_type": "code",
      "source": [
        "\n",
        "start_val = 1\n",
        "n = int(input(\"Enter the n number:\"))\n",
        "for num in range(start_val, n+1):\n",
        "    if(num>1):\n",
        "        for i in range(2,num):\n",
        "            if(num%i)==0:\n",
        "                break\n",
        "        else:\n",
        "            print(num)"
      ],
      "metadata": {
        "colab": {
          "base_uri": "https://localhost:8080/"
        },
        "id": "EaV9r9eNE2tg",
        "outputId": "9ce0367c-6e87-408a-d5d5-7626afc3ea70"
      },
      "execution_count": 9,
      "outputs": [
        {
          "output_type": "stream",
          "name": "stdout",
          "text": [
            "Enter the n number:15\n",
            "2\n",
            "3\n",
            "5\n",
            "7\n",
            "11\n",
            "13\n"
          ]
        }
      ]
    },
    {
      "cell_type": "markdown",
      "source": [
        "**Printing prime numbers between two numbers**"
      ],
      "metadata": {
        "id": "wO0zYPb1INt1"
      }
    },
    {
      "cell_type": "code",
      "source": [
        "\n",
        "lower = int(input(\"Enter the low value:\"))\n",
        "higher = int(input(\"Enter the high value:\"))\n",
        "for num in range(lower, higher+1):\n",
        "    if(num>1):\n",
        "        for i in range(2,num):\n",
        "            if(num%i)==0:\n",
        "                break\n",
        "        else:\n",
        "            print(num)"
      ],
      "metadata": {
        "colab": {
          "base_uri": "https://localhost:8080/"
        },
        "id": "orAjtjv6FODM",
        "outputId": "886fbb84-e1c8-4150-fc26-35555e219344"
      },
      "execution_count": 10,
      "outputs": [
        {
          "output_type": "stream",
          "name": "stdout",
          "text": [
            "Enter the low value:5\n",
            "Enter the high value:25\n",
            "5\n",
            "7\n",
            "11\n",
            "13\n",
            "17\n",
            "19\n",
            "23\n"
          ]
        }
      ]
    },
    {
      "cell_type": "code",
      "source": [
        ""
      ],
      "metadata": {
        "id": "3EyFALphHjMK"
      },
      "execution_count": null,
      "outputs": []
    }
  ]
}